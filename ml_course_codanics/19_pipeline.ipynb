{
 "cells": [
  {
   "cell_type": "markdown",
   "metadata": {},
   "source": [
    "## pip line in machine learning\n",
    "pipe line in machine learning is a sequence of data processing components. Each component in the pipeline is called a stage. Stages are run in order, and the input DataFrame is transformed as it passes through each stage.\n",
    "\n",
    "## Steps in pipeline\n",
    "1. Importing Libraries\n",
    "2. Loading the dataset\n",
    "3. Data Preprocessing\n",
    "4. Splitting the dataset\n",
    "5. Building the pipeline\n",
    "6. Training the model\n",
    "7. Making predictions\n",
    "8. Evaluating the model\n",
    "9. Saving the model\n",
    "10. Loading the model\n",
    "11. Making predictions using the loaded model\n",
    "12. Conclusion\n",
    "13. References"
   ]
  }
 ],
 "metadata": {
  "kernelspec": {
   "display_name": "mlpractice",
   "language": "python",
   "name": "python3"
  },
  "language_info": {
   "name": "python",
   "version": "3.11.9"
  }
 },
 "nbformat": 4,
 "nbformat_minor": 2
}
