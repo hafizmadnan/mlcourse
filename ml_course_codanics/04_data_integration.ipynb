{
 "cells": [
  {
   "cell_type": "markdown",
   "metadata": {},
   "source": [
    "## data merging"
   ]
  },
  {
   "cell_type": "code",
   "execution_count": 4,
   "metadata": {},
   "outputs": [],
   "source": [
    "import pandas as pd\n",
    "\n",
    "data1 = {\n",
    "    'id':[1,2,3,4,5],\n",
    "    'name':['Asad','Saad','Fahad','Ali','Hassan'],\n",
    "    'age':[23,34,23,21,22],\n",
    "}\n",
    "df1 = pd.DataFrame(data1)\n",
    "\n",
    "\n",
    "data2 = {\n",
    "    'id':[1,2,4,5,6],\n",
    "    'city':['Karachi','Lahore','Islamabad','Quetta','Peshawar'],\n",
    "    'occupation':['engineer','doctor','teacher','driver','cook'],\n",
    "}\n",
    "df2 = pd.DataFrame(data2)\n"
   ]
  },
  {
   "cell_type": "code",
   "execution_count": 5,
   "metadata": {},
   "outputs": [
    {
     "data": {
      "text/html": [
       "<div>\n",
       "<style scoped>\n",
       "    .dataframe tbody tr th:only-of-type {\n",
       "        vertical-align: middle;\n",
       "    }\n",
       "\n",
       "    .dataframe tbody tr th {\n",
       "        vertical-align: top;\n",
       "    }\n",
       "\n",
       "    .dataframe thead th {\n",
       "        text-align: right;\n",
       "    }\n",
       "</style>\n",
       "<table border=\"1\" class=\"dataframe\">\n",
       "  <thead>\n",
       "    <tr style=\"text-align: right;\">\n",
       "      <th></th>\n",
       "      <th>id</th>\n",
       "      <th>name</th>\n",
       "      <th>age</th>\n",
       "      <th>city</th>\n",
       "      <th>occupation</th>\n",
       "    </tr>\n",
       "  </thead>\n",
       "  <tbody>\n",
       "    <tr>\n",
       "      <th>0</th>\n",
       "      <td>1</td>\n",
       "      <td>Asad</td>\n",
       "      <td>23</td>\n",
       "      <td>Karachi</td>\n",
       "      <td>engineer</td>\n",
       "    </tr>\n",
       "    <tr>\n",
       "      <th>1</th>\n",
       "      <td>2</td>\n",
       "      <td>Saad</td>\n",
       "      <td>34</td>\n",
       "      <td>Lahore</td>\n",
       "      <td>doctor</td>\n",
       "    </tr>\n",
       "    <tr>\n",
       "      <th>2</th>\n",
       "      <td>4</td>\n",
       "      <td>Ali</td>\n",
       "      <td>21</td>\n",
       "      <td>Islamabad</td>\n",
       "      <td>teacher</td>\n",
       "    </tr>\n",
       "    <tr>\n",
       "      <th>3</th>\n",
       "      <td>5</td>\n",
       "      <td>Hassan</td>\n",
       "      <td>22</td>\n",
       "      <td>Quetta</td>\n",
       "      <td>driver</td>\n",
       "    </tr>\n",
       "  </tbody>\n",
       "</table>\n",
       "</div>"
      ],
      "text/plain": [
       "   id    name  age       city occupation\n",
       "0   1    Asad   23    Karachi   engineer\n",
       "1   2    Saad   34     Lahore     doctor\n",
       "2   4     Ali   21  Islamabad    teacher\n",
       "3   5  Hassan   22     Quetta     driver"
      ]
     },
     "execution_count": 5,
     "metadata": {},
     "output_type": "execute_result"
    }
   ],
   "source": [
    "merged = pd.merge(df1, df2, on='id', how='inner')\n",
    "merged.head()"
   ]
  },
  {
   "cell_type": "code",
   "execution_count": null,
   "metadata": {},
   "outputs": [],
   "source": []
  },
  {
   "cell_type": "markdown",
   "metadata": {},
   "source": [
    "## Data Concatenation"
   ]
  },
  {
   "cell_type": "code",
   "execution_count": 9,
   "metadata": {},
   "outputs": [
    {
     "name": "stdout",
     "output_type": "stream",
     "text": [
      "     Name  age\n",
      "0    Asad   23\n",
      "1    Saad   34\n",
      "2   Fahad   23\n",
      "3     Ali   21\n",
      "4  Hassan   22\n",
      "0    zain   12\n",
      "1  naveed   34\n",
      "2   irfan   22\n",
      "3   bakir   21\n",
      "4  kashif   26\n"
     ]
    },
    {
     "data": {
      "text/html": [
       "<div>\n",
       "<style scoped>\n",
       "    .dataframe tbody tr th:only-of-type {\n",
       "        vertical-align: middle;\n",
       "    }\n",
       "\n",
       "    .dataframe tbody tr th {\n",
       "        vertical-align: top;\n",
       "    }\n",
       "\n",
       "    .dataframe thead th {\n",
       "        text-align: right;\n",
       "    }\n",
       "</style>\n",
       "<table border=\"1\" class=\"dataframe\">\n",
       "  <thead>\n",
       "    <tr style=\"text-align: right;\">\n",
       "      <th></th>\n",
       "      <th>Name</th>\n",
       "      <th>age</th>\n",
       "      <th>city</th>\n",
       "      <th>province</th>\n",
       "    </tr>\n",
       "  </thead>\n",
       "  <tbody>\n",
       "    <tr>\n",
       "      <th>0</th>\n",
       "      <td>Asad</td>\n",
       "      <td>23</td>\n",
       "      <td>Karachi</td>\n",
       "      <td>Sindh</td>\n",
       "    </tr>\n",
       "    <tr>\n",
       "      <th>1</th>\n",
       "      <td>Saad</td>\n",
       "      <td>34</td>\n",
       "      <td>Lahore</td>\n",
       "      <td>Punjab</td>\n",
       "    </tr>\n",
       "    <tr>\n",
       "      <th>2</th>\n",
       "      <td>Fahad</td>\n",
       "      <td>23</td>\n",
       "      <td>Islamabad</td>\n",
       "      <td>Balochistan</td>\n",
       "    </tr>\n",
       "    <tr>\n",
       "      <th>3</th>\n",
       "      <td>Ali</td>\n",
       "      <td>21</td>\n",
       "      <td>Quetta</td>\n",
       "      <td>KPK</td>\n",
       "    </tr>\n",
       "    <tr>\n",
       "      <th>4</th>\n",
       "      <td>Hassan</td>\n",
       "      <td>22</td>\n",
       "      <td>Peshawar</td>\n",
       "      <td>KPK</td>\n",
       "    </tr>\n",
       "  </tbody>\n",
       "</table>\n",
       "</div>"
      ],
      "text/plain": [
       "     Name  age       city     province\n",
       "0    Asad   23    Karachi        Sindh\n",
       "1    Saad   34     Lahore       Punjab\n",
       "2   Fahad   23  Islamabad  Balochistan\n",
       "3     Ali   21     Quetta          KPK\n",
       "4  Hassan   22   Peshawar          KPK"
      ]
     },
     "execution_count": 9,
     "metadata": {},
     "output_type": "execute_result"
    }
   ],
   "source": [
    "import pandas as pd\n",
    "data1 = {\n",
    "    'Name':['Asad','Saad','Fahad','Ali','Hassan'],\n",
    "    'age':[23,34,23,21,22]\n",
    "}\n",
    "data2 = {\n",
    "    'Name': ['zain','naveed','irfan','bakir','kashif'],\n",
    "    'age':[12,34,22,21,26]\n",
    "}\n",
    "data3 = {\n",
    "    'city':['Karachi','Lahore','Islamabad','Quetta','Peshawar'],\n",
    "    'province':['Sindh','Punjab','Balochistan','KPK','KPK']\n",
    " }\n",
    "df1 = pd.DataFrame(data1)\n",
    "df2 = pd.DataFrame(data2)\n",
    "df3 = pd.DataFrame(data3)\n",
    "\n",
    "concatenated = pd.concat([df1, df2], axis=0)\n",
    "concatenated.head()\n",
    "\n",
    "\n",
    "concatenated_col = pd.concat([df1, df3], axis=1)\n",
    "print(concatenated)\n",
    "concatenated_col\n"
   ]
  },
  {
   "cell_type": "code",
   "execution_count": null,
   "metadata": {},
   "outputs": [],
   "source": []
  }
 ],
 "metadata": {
  "kernelspec": {
   "display_name": "mlpractice",
   "language": "python",
   "name": "python3"
  },
  "language_info": {
   "codemirror_mode": {
    "name": "ipython",
    "version": 3
   },
   "file_extension": ".py",
   "mimetype": "text/x-python",
   "name": "python",
   "nbconvert_exporter": "python",
   "pygments_lexer": "ipython3",
   "version": "3.11.9"
  }
 },
 "nbformat": 4,
 "nbformat_minor": 2
}
